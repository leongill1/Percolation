{
 "cells": [
  {
   "cell_type": "code",
   "execution_count": 267,
   "id": "256112a6-c717-413d-b3ec-51ef4d653a78",
   "metadata": {},
   "outputs": [],
   "source": [
    "import numpy as np\n",
    "import pandas as pd\n",
    "import time as ti\n",
    "import math as ma\n",
    "import random as rn\n",
    "import matplotlib.pyplot as plt\n",
    "from joblib import Parallel, delayed"
   ]
  },
  {
   "cell_type": "code",
   "execution_count": 268,
   "id": "e8e6ce4c-70d3-44c9-9a9d-8a9e65ee664d",
   "metadata": {},
   "outputs": [],
   "source": [
    "def MakeGrid(n, p):\n",
    "    return np.random.binomial(1, p, (n, n))"
   ]
  },
  {
   "cell_type": "markdown",
   "id": "719360a3-d4fa-4489-ae68-1f8f6636e3ab",
   "metadata": {},
   "source": [
    "# Algorithm\n",
    "Start at the \"top\" row and try to get to the bottom\n",
    "1. Move alone the \"top\" row until an actice node is found, represented by a 1.\n",
    "2. Look at the adjacent squares in the following order: down, right, left, up.\n",
    "    3. If you move, change the 1 on the active node to 2, 3, 4 or 5 depending on if you moved down, right, left or up.\n",
    "        4. This tracks the path taken to allow for backtracking if a dead-end is found.\n",
    "    5. If you dont move, go back to the place you were.\n",
    "        6. If you move back and are now on the \"top\" row, change the current node to inactive and move to the next active node on the \"top\" row.\n",
    "3. Repeat until you reach the other side or you reach the end of the \"top\" row"
   ]
  },
  {
   "cell_type": "code",
   "execution_count": 269,
   "id": "4e16cc98-3b16-4803-ad8c-e51b0e63def9",
   "metadata": {},
   "outputs": [],
   "source": [
    "MoveBack = dict([(2, np.array([-1, 0])), (3, np.array([0, -1])), (4, np.array([0, 1])), (5, np.array([1, 0]))])"
   ]
  },
  {
   "cell_type": "code",
   "execution_count": 270,
   "id": "133736d3-4551-4954-834f-0916def059cc",
   "metadata": {},
   "outputs": [],
   "source": [
    "def SolveGrid(Grid):\n",
    "    Size = len(Grid)\n",
    "    CurrentPosition = np.array([0,0])\n",
    "    CurrentHomeRow = 0\n",
    "\n",
    "    if sum(Grid[0]) > 0:\n",
    "        while Grid[0, CurrentHomeRow] == 0:\n",
    "            CurrentHomeRow += 1\n",
    "        CurrentPosition = [0, CurrentHomeRow]\n",
    "            \n",
    "        while CurrentPosition[0] != Size - 1:\n",
    "            x = CurrentPosition[1]\n",
    "            y = CurrentPosition[0]\n",
    "            Moved = False\n",
    "\n",
    "            #down\n",
    "            if Grid[y+1][x] == 1:\n",
    "                y += 1\n",
    "                Moved = True\n",
    "                Grid[y][x] = 2\n",
    "            #right   \n",
    "            if not Moved:\n",
    "                    if x != Size - 1:\n",
    "                        if Grid[y][x+1] == 1:\n",
    "                            x += 1\n",
    "                            Moved = True\n",
    "                            Grid[y][x] = 3\n",
    "            #left             \n",
    "            if not Moved:   \n",
    "                if x != 0:\n",
    "                    if Grid[y][x-1] == 1:\n",
    "                            x -= 1\n",
    "                            Moved = True\n",
    "                            Grid[y][x] = 4\n",
    "            #up              \n",
    "            if not Moved:    \n",
    "                if y > 0:\n",
    "                    if Grid[y-1][x] == 1:\n",
    "                            y -= 1\n",
    "                            Moved = True\n",
    "                            Grid[y][x] = 5\n",
    "\n",
    "\n",
    "            CurrentPosition = [y,x]\n",
    "            \n",
    "            if Moved == False:  \n",
    "                if CurrentPosition[0] != 0:\n",
    "                    CurrentPosition += MoveBack[Grid[y][x]]\n",
    "                    Grid[y][x] = 0\n",
    "                if CurrentPosition[0] == 0:\n",
    "                #Path found from which. Grid > 1 https://stackoverflow.com/questions/16094563/numpy-get-index-where-value-is-true\n",
    "                #Requires us to reset all the non binary cells when we move along bottom row. This will be done right HERE. \n",
    "                    Grid[y][x] = 0\n",
    "\n",
    "                    CurrentHomeRow = CurrentPosition[1] + 1\n",
    "                    if sum(Grid[0][CurrentHomeRow:]) > 0:\n",
    "                        while Grid[0, CurrentHomeRow] == 0:\n",
    "                            CurrentHomeRow += 1\n",
    "                        CurrentPosition = [0, CurrentHomeRow]\n",
    "                    else:       \n",
    "                        return 0\n",
    "                        break   \n",
    "            if CurrentPosition[0] == Size - 1:\n",
    "\n",
    "                return 1\n",
    "                break\n",
    "    else:\n",
    "        return 0"
   ]
  },
  {
   "cell_type": "markdown",
   "id": "5daf67c6-a983-43bb-a08a-c85a44ba000a",
   "metadata": {},
   "source": [
    "# Time contribition of grid generation and solver\n",
    "Investigate how the solver time is affected by the grid population."
   ]
  },
  {
   "cell_type": "code",
   "execution_count": 340,
   "id": "d98cf1b1-f60d-4a78-b4ac-1286657e45bb",
   "metadata": {},
   "outputs": [
    {
     "data": {
      "text/plain": [
       "474.52875"
      ]
     },
     "execution_count": 340,
     "metadata": {},
     "output_type": "execute_result"
    }
   ],
   "source": [
    "runs_per = 100\n",
    "grid_size = 500\n",
    "smallest_prob = 0#0.59\n",
    "largest_prob = 1 #.60\n",
    "total_points = 500\n",
    "\n",
    "grid_times = []\n",
    "solve_times = []\n",
    "\n",
    "success = []\n",
    "for probability in np.linspace(smallest_prob, largest_prob, total_points):\n",
    "    current = 0\n",
    "    grid_time = 0\n",
    "    solve_time = 0\n",
    "    total_start = ti.time()\n",
    "    for runs in range(0,runs_per):\n",
    "        start = ti.time()\n",
    "        test = MakeGrid(grid_size, probability)\n",
    "        grid_time += ti.time() - start\n",
    "        \n",
    "        start = ti.time()\n",
    "        current += SolveGrid(test)\n",
    "        solve_time += ti.time() - start\n",
    "        \n",
    "    grid_times.append(grid_time)\n",
    "    solve_times.append(solve_time)\n",
    "    success.append([probability, current/runs_per, ti.time() - total_start])\n",
    "round(sum(grid_times) + sum(solve_times), 5)"
   ]
  },
  {
   "cell_type": "code",
   "execution_count": 342,
   "id": "3f430849-844b-499e-9e48-b5889ed0521e",
   "metadata": {
    "tags": []
   },
   "outputs": [
    {
     "data": {
      "text/plain": [
       "<matplotlib.legend.Legend at 0x1dd637eb9a0>"
      ]
     },
     "execution_count": 342,
     "metadata": {},
     "output_type": "execute_result"
    },
    {
     "data": {
      "image/png": "[encoded data removed]",
      "text/plain": [
       "<Figure size 432x288 with 1 Axes>"
      ]
     },
     "metadata": {
      "needs_background": "light"
     },
     "output_type": "display_data"
    }
   ],
   "source": [
    "plt.plot(np.linspace(smallest_prob, largest_prob, total_points), grid_times, label = \"Grids\")\n",
    "plt.plot(np.linspace(smallest_prob, largest_prob, total_points), solve_times, label = \"Solver\")\n",
    "plt.plot(np.linspace(smallest_prob, largest_prob, total_points), [x + y for x, y in zip(grid_times, solve_times)], label = \"All\")\n",
    "plt.legend()"
   ]
  },
  {
   "cell_type": "markdown",
   "id": "79242482-2115-4a33-8ee1-543f6dd5d9fb",
   "metadata": {},
   "source": [
    "The image above illustrates that the solver is responsible for effectively all computation time. Crucially, the computation time increased enormously around the critical percolation probability $$p = p_c \\sim 0.59$$"
   ]
  },
  {
   "cell_type": "markdown",
   "id": "6d99c898-11b8-4f5f-b841-dc8fdbec799f",
   "metadata": {},
   "source": [
    "# Binary Behavior\n",
    "Investigate how the lattice exhibits binary behaviour as the lattice size is increased. As the lattice size $\\to \\infty$, the system tends to be entirely binary. Above $p = p_c$, the maze is solvable. Below $p_c$, the maze is not solvable."
   ]
  },
  {
   "cell_type": "code",
   "execution_count": 7,
   "id": "74e3d860-8913-4503-97de-99290c344366",
   "metadata": {},
   "outputs": [],
   "source": [
    "def TestRun(runs_per = 100, grid_size = 100, probability = 0.58):\n",
    "    success = []\n",
    "    current = 0\n",
    "    start = ti.time()\n",
    "    for runs in range(0,runs_per):\n",
    "        test = MakeGrid(grid_size, probability)\n",
    "        current += SolveGrid(test)\n",
    "    success.append([probability, current/runs_per])#, ti.time() - start])\n",
    "    return success"
   ]
  },
  {
   "cell_type": "code",
   "execution_count": 6,
   "id": "d6359426-d8bf-4239-94a0-406707c19bd7",
   "metadata": {},
   "outputs": [],
   "source": [
    "def Final(p):#100 was 124 # 400 was 1350\n",
    "    return TestRun(runs_per = 5000, grid_size = 100, probability = p)"
   ]
  },
  {
   "cell_type": "code",
   "execution_count": 7,
   "id": "9db32d8a-99c1-440e-b292-7df4ad1ba570",
   "metadata": {},
   "outputs": [
    {
     "name": "stdout",
     "output_type": "stream",
     "text": [
      "108.6390597820282\n"
     ]
    }
   ],
   "source": [
    "starter = ti.time()\n",
    "element_run = Parallel(n_jobs=4)(delayed(Final)(k) for k in np.linspace(0, 1, 101))\n",
    "print(ti.time() - starter)"
   ]
  },
  {
   "cell_type": "code",
   "execution_count": 8,
   "id": "904ec9cc-4945-4eff-913e-a19d0b5ec4d0",
   "metadata": {},
   "outputs": [
    {
     "data": {
      "text/plain": [
       "[<matplotlib.lines.Line2D at 0x1b8680b8040>]"
      ]
     },
     "execution_count": 8,
     "metadata": {},
     "output_type": "execute_result"
    },
    {
     "data": {
      "image/png": "[encoded data removed]",
      "text/plain": [
       "<Figure size 432x288 with 1 Axes>"
      ]
     },
     "metadata": {
      "needs_background": "light"
     },
     "output_type": "display_data"
    }
   ],
   "source": [
    "plt.plot([x[0][0] for x in element_run], [x[0][1] for x in element_run])"
   ]
  },
  {
   "cell_type": "markdown",
   "id": "c93f97cb-6508-4409-b214-7e7b4c4a2713",
   "metadata": {},
   "source": [
    "# Algo for $p_c$\n",
    "This is a simple algorithm that leverages the bisection method where a range of probabilities are sampled with the range halving in size over each iteration of the algorithm."
   ]
  },
  {
   "cell_type": "code",
   "execution_count": 21,
   "id": "8965ccde-831f-4ea8-8264-78b1c2cb07c7",
   "metadata": {},
   "outputs": [
    {
     "name": "stdout",
     "output_type": "stream",
     "text": [
      "0.625\n",
      "0.5875\n",
      "0.60625\n",
      "0.596875\n",
      "0.5921875000000001\n",
      "0.5945312500000001\n",
      "0.5933593750000001\n",
      "0.5927734375000001\n",
      "0.5930664062500002\n",
      "0.5929199218750001\n"
     ]
    },
    {
     "data": {
      "text/plain": [
       "1118.407900094986"
      ]
     },
     "execution_count": 21,
     "metadata": {},
     "output_type": "execute_result"
    }
   ],
   "source": [
    "upper = .7\n",
    "lower = .4\n",
    "goes = 10\n",
    "start = ti.time()\n",
    "gridsize = 10000\n",
    "while goes > 0:\n",
    "    guess = (upper + lower)/2\n",
    "    if SolveGrid(MakeGrid(gridsize, guess)): \n",
    "        upper = guess\n",
    "    else:\n",
    "        lower = guess\n",
    "    goes -= 1\n",
    "    print((upper + lower)/2)\n",
    "    gridsize += 2000\n",
    "ti.time() - start "
   ]
  }
 ],
 "metadata": {
  "kernelspec": {
   "display_name": "Python 3",
   "language": "python",
   "name": "python3"
  },
  "language_info": {
   "codemirror_mode": {
    "name": "ipython",
    "version": 3
   },
   "file_extension": ".py",
   "mimetype": "text/x-python",
   "name": "python",
   "nbconvert_exporter": "python",
   "pygments_lexer": "ipython3",
   "version": "3.8.8"
  }
 },
 "nbformat": 4,
 "nbformat_minor": 5
}
